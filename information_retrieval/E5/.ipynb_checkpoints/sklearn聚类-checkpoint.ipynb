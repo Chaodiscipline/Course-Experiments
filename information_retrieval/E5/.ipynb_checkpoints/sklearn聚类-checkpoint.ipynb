{
 "cells": [
  {
   "cell_type": "code",
   "execution_count": 2,
   "metadata": {},
   "outputs": [],
   "source": [
    "import json\n",
    "from sklearn.feature_extraction.text import TfidfVectorizer\n",
    "from sklearn.metrics.cluster import normalized_mutual_info_score"
   ]
  },
  {
   "cell_type": "markdown",
   "metadata": {},
   "source": [
    "## 读取tweets数据集"
   ]
  },
  {
   "cell_type": "code",
   "execution_count": 3,
   "metadata": {},
   "outputs": [],
   "source": [
    "tweets_text = []    #tweets_text中的元素为原每个tweet的正文\n",
    "clusterId = []      #每个tweet实际所在的cluster\n",
    "with open('Homework5Tweets.txt', encoding='utf-8') as file:\n",
    "    for line in file:\n",
    "        tweet = json.loads(line)\n",
    "        tweets_text.append(tweet['text'])\n",
    "        clusterId.append(tweet['cluster'])\n",
    "# print(tweets_text)\n",
    "# print(clusterId)"
   ]
  },
  {
   "cell_type": "markdown",
   "metadata": {},
   "source": [
    "## 建立基于Tfidf的向量空间模型"
   ]
  },
  {
   "cell_type": "code",
   "execution_count": 4,
   "metadata": {},
   "outputs": [
    {
     "name": "stdout",
     "output_type": "stream",
     "text": [
      "(2472, 5097)\n",
      "<class 'scipy.sparse.csr.csr_matrix'>\n",
      "[[0. 0. 0. ... 0. 0. 0.]\n",
      " [0. 0. 0. ... 0. 0. 0.]\n",
      " [0. 0. 0. ... 0. 0. 0.]\n",
      " ...\n",
      " [0. 0. 0. ... 0. 0. 0.]\n",
      " [0. 0. 0. ... 0. 0. 0.]\n",
      " [0. 0. 0. ... 0. 0. 0.]]\n"
     ]
    }
   ],
   "source": [
    "from sklearn.feature_extraction.text import TfidfVectorizer\n",
    "tweets_str = [\" \".join(tweets_text)]\n",
    "# print(tweets_str)\n",
    "# 创建transform\n",
    "vectorizer = TfidfVectorizer()\n",
    "# 分词并建立词汇表\n",
    "vectorizer.fit(tweets_text)\n",
    "# 结果输出\n",
    "# print(vectorizer.vocabulary_)\n",
    "\n",
    "vector = vectorizer.transform(tweets_text)\n",
    "vs_array = vector.toarray()\n",
    "# 输出编码后的向量信息\n",
    "print(vector.shape)\n",
    "print(type(vector))\n",
    "print(vs_array)"
   ]
  },
  {
   "cell_type": "markdown",
   "metadata": {},
   "source": [
    "## 聚类算法测试\n",
    "![title](clustering_method.png)"
   ]
  },
  {
   "cell_type": "code",
   "execution_count": 6,
   "metadata": {},
   "outputs": [
    {
     "name": "stdout",
     "output_type": "stream",
     "text": [
      "[[0. 0. 0. ... 0. 0. 0.]\n",
      " [0. 0. 0. ... 0. 0. 0.]\n",
      " [0. 0. 0. ... 0. 0. 0.]\n",
      " ...\n",
      " [0. 0. 0. ... 0. 0. 0.]\n",
      " [0. 0. 0. ... 0. 0. 0.]\n",
      " [0. 0. 0. ... 0. 0. 0.]]\n"
     ]
    }
   ],
   "source": [
    "import numpy as np\n",
    "X = np.array(vs_array)\n",
    "print(X)"
   ]
  },
  {
   "cell_type": "markdown",
   "metadata": {},
   "source": [
    "## K-means"
   ]
  },
  {
   "cell_type": "code",
   "execution_count": 7,
   "metadata": {},
   "outputs": [
    {
     "name": "stdout",
     "output_type": "stream",
     "text": [
      "[105  20  98 ...  52  38  11]\n",
      "2472\n"
     ]
    }
   ],
   "source": [
    "from sklearn.cluster import KMeans\n",
    "kmeans = KMeans(n_clusters=110, random_state=0).fit(X)\n",
    "print(kmeans.labels_)\n",
    "print(len(kmeans.labels_))\n",
    "# for i in kmeans.labels_:\n",
    "#     print(i)"
   ]
  },
  {
   "cell_type": "markdown",
   "metadata": {},
   "source": [
    "### k-means结果评价"
   ]
  },
  {
   "cell_type": "code",
   "execution_count": 92,
   "metadata": {},
   "outputs": [
    {
     "name": "stdout",
     "output_type": "stream",
     "text": [
      "nmi_kmeans =  0.7980301635709245\n"
     ]
    }
   ],
   "source": [
    "nmi_kmeans = normalized_mutual_info_score(clusterId, kmeans.labels_)\n",
    "print('nmi_kmeans = ',nmi_kmeans)"
   ]
  },
  {
   "cell_type": "markdown",
   "metadata": {},
   "source": [
    "## AffinityPropagation"
   ]
  },
  {
   "cell_type": "code",
   "execution_count": 93,
   "metadata": {},
   "outputs": [
    {
     "name": "stdout",
     "output_type": "stream",
     "text": [
      "AffinityPropagation(affinity='euclidean', convergence_iter=15, copy=True,\n",
      "          damping=0.5, max_iter=200, preference=None, verbose=False)\n",
      "[205  91 216 ... 224 145 115]\n"
     ]
    }
   ],
   "source": [
    "from sklearn.cluster import AffinityPropagation\n",
    "clustering_ap = AffinityPropagation().fit(X)\n",
    "print(clustering_ap)\n",
    "print(clustering_ap.labels_)"
   ]
  },
  {
   "cell_type": "markdown",
   "metadata": {},
   "source": [
    "###  AffinityPropagation结果评价"
   ]
  },
  {
   "cell_type": "code",
   "execution_count": 94,
   "metadata": {},
   "outputs": [
    {
     "name": "stdout",
     "output_type": "stream",
     "text": [
      "nmi_ap =  0.7831643850554082\n"
     ]
    }
   ],
   "source": [
    "nmi_ap = normalized_mutual_info_score(clusterId, clustering_ap.labels_)\n",
    "print('nmi_ap = ',nmi_ap)"
   ]
  },
  {
   "cell_type": "markdown",
   "metadata": {},
   "source": [
    "## Mean-shift"
   ]
  },
  {
   "cell_type": "code",
   "execution_count": 87,
   "metadata": {},
   "outputs": [
    {
     "name": "stdout",
     "output_type": "stream",
     "text": [
      "MeanShift(bandwidth=2, bin_seeding=False, cluster_all=True, min_bin_freq=1,\n",
      "     n_jobs=1, seeds=None)\n",
      "[0 0 0 ... 0 0 0]\n"
     ]
    }
   ],
   "source": [
    "from sklearn.cluster import MeanShift\n",
    "clustering_ms = MeanShift(bandwidth=2).fit(X)\n",
    "print(clustering_ms)\n",
    "print(clustering_ms.labels_)"
   ]
  },
  {
   "cell_type": "markdown",
   "metadata": {},
   "source": [
    "### Mean-shift结果评价"
   ]
  },
  {
   "cell_type": "code",
   "execution_count": 95,
   "metadata": {},
   "outputs": [
    {
     "name": "stdout",
     "output_type": "stream",
     "text": [
      "nmi_ms =  -1.6132928326584306e-06\n"
     ]
    }
   ],
   "source": [
    "nmi_ms = normalized_mutual_info_score(clusterId, clustering_ms.labels_)\n",
    "print('nmi_ms = ',nmi_ms)"
   ]
  },
  {
   "cell_type": "markdown",
   "metadata": {},
   "source": [
    "## Spectral clustering"
   ]
  },
  {
   "cell_type": "code",
   "execution_count": 96,
   "metadata": {},
   "outputs": [
    {
     "name": "stdout",
     "output_type": "stream",
     "text": [
      "SpectralClustering(affinity='rbf', assign_labels='discretize', coef0=1,\n",
      "          degree=3, eigen_solver=None, eigen_tol=0.0, gamma=1.0,\n",
      "          kernel_params=None, n_clusters=110, n_init=10, n_jobs=1,\n",
      "          n_neighbors=10, random_state=0)\n",
      "[21  9  0 ... 81 53 54]\n"
     ]
    }
   ],
   "source": [
    "from sklearn.cluster import SpectralClustering\n",
    "clustering_sc = SpectralClustering(n_clusters=110, assign_labels=\"discretize\", random_state=0).fit(X)\n",
    "print(clustering_sc)\n",
    "print(clustering_sc.labels_)"
   ]
  },
  {
   "cell_type": "markdown",
   "metadata": {},
   "source": [
    "### spectral clustering结果评价"
   ]
  },
  {
   "cell_type": "code",
   "execution_count": 97,
   "metadata": {},
   "outputs": [
    {
     "name": "stdout",
     "output_type": "stream",
     "text": [
      "nmi_sc =  0.7800448149457381\n"
     ]
    }
   ],
   "source": [
    "nmi_sc = normalized_mutual_info_score(clusterId, clustering_sc.labels_)\n",
    "print('nmi_sc = ',nmi_sc)"
   ]
  },
  {
   "cell_type": "markdown",
   "metadata": {},
   "source": [
    "## ward hierarchical clustering\n",
    "### 合并于AgglomerawtiveClustering中，默认linkage='ward'"
   ]
  },
  {
   "cell_type": "code",
   "execution_count": 98,
   "metadata": {},
   "outputs": [
    {
     "name": "stdout",
     "output_type": "stream",
     "text": [
      "AgglomerativeClustering(affinity='euclidean', compute_full_tree='auto',\n",
      "            connectivity=None, linkage='ward', memory=None, n_clusters=110,\n",
      "            pooling_func=<function mean at 0x000001FB5269A9D8>)\n",
      "[ 30  46   2 ...  62  44 102]\n"
     ]
    }
   ],
   "source": [
    "from sklearn.cluster import AgglomerativeClustering\n",
    "clustering_wh = AgglomerativeClustering(affinity='euclidean', compute_full_tree='auto',\n",
    "            connectivity=None, linkage='ward', memory=None, n_clusters=110).fit(X)\n",
    "print(clustering_wh)\n",
    "print(clustering_wh.labels_)"
   ]
  },
  {
   "cell_type": "markdown",
   "metadata": {},
   "source": [
    "## ward hierarchical clustering结果评价"
   ]
  },
  {
   "cell_type": "code",
   "execution_count": 99,
   "metadata": {},
   "outputs": [
    {
     "name": "stdout",
     "output_type": "stream",
     "text": [
      "nmi_wh =  0.77587403569932\n"
     ]
    }
   ],
   "source": [
    "nmi_wh = normalized_mutual_info_score(clusterId, clustering_wh.labels_)\n",
    "print('nmi_wh = ',nmi_wh)"
   ]
  },
  {
   "cell_type": "markdown",
   "metadata": {},
   "source": [
    "## AgglomerativeClustering"
   ]
  },
  {
   "cell_type": "code",
   "execution_count": 100,
   "metadata": {
    "scrolled": true
   },
   "outputs": [],
   "source": [
    "from sklearn.cluster import AgglomerativeClustering\n",
    "clustering_agg1 = AgglomerativeClustering(affinity='euclidean', compute_full_tree='auto',\n",
    "            connectivity=None, linkage='complete', memory=None, n_clusters=110,\n",
    "            ).fit(X)\n",
    "clustering_agg2 = AgglomerativeClustering(affinity='euclidean', compute_full_tree='auto',\n",
    "            connectivity=None, linkage='average', memory=None, n_clusters=110,\n",
    "            ).fit(X)"
   ]
  },
  {
   "cell_type": "markdown",
   "metadata": {},
   "source": [
    "## AgglomerativeClustering结果评价"
   ]
  },
  {
   "cell_type": "code",
   "execution_count": 101,
   "metadata": {},
   "outputs": [
    {
     "name": "stdout",
     "output_type": "stream",
     "text": [
      "nmi_agg_complete =  0.7595908816134626\n",
      "nmi_agg_average =  0.9004539868135747\n"
     ]
    }
   ],
   "source": [
    "nmi_agg_complete = normalized_mutual_info_score(clusterId, clustering_agg1.labels_)\n",
    "nmi_agg_average = normalized_mutual_info_score(clusterId, clustering_agg2.labels_)\n",
    "print('nmi_agg_complete = ',nmi_agg_complete)\n",
    "print('nmi_agg_average = ',nmi_agg_average)"
   ]
  },
  {
   "cell_type": "markdown",
   "metadata": {},
   "source": [
    "## DBSCAN"
   ]
  },
  {
   "cell_type": "code",
   "execution_count": 108,
   "metadata": {},
   "outputs": [
    {
     "name": "stdout",
     "output_type": "stream",
     "text": [
      "DBSCAN(algorithm='auto', eps=0.02, leaf_size=30, metric='euclidean',\n",
      "    metric_params=None, min_samples=5, n_jobs=1, p=None)\n",
      "[-1 -1 -1 ... -1 -1 -1]\n"
     ]
    }
   ],
   "source": [
    "from sklearn.cluster import DBSCAN\n",
    "clustering_DBSCAN = DBSCAN(eps=0.02, min_samples=5).fit(X)\n",
    "print(clustering_DBSCAN)\n",
    "print(clustering_DBSCAN.labels_)"
   ]
  },
  {
   "cell_type": "markdown",
   "metadata": {},
   "source": [
    "## DBSCAN结果评价"
   ]
  },
  {
   "cell_type": "code",
   "execution_count": 109,
   "metadata": {},
   "outputs": [
    {
     "name": "stdout",
     "output_type": "stream",
     "text": [
      "nmi_dbscan =  0.0914960470508469\n"
     ]
    }
   ],
   "source": [
    "nmi_dbscan = normalized_mutual_info_score(clusterId, clustering_DBSCAN.labels_)\n",
    "print('nmi_dbscan = ',nmi_dbscan)"
   ]
  },
  {
   "cell_type": "markdown",
   "metadata": {},
   "source": [
    "## Gaussian mixture"
   ]
  },
  {
   "cell_type": "code",
   "execution_count": 112,
   "metadata": {},
   "outputs": [
    {
     "name": "stdout",
     "output_type": "stream",
     "text": [
      "[0 0 0 ... 0 0 0]\n"
     ]
    }
   ],
   "source": [
    "from sklearn.mixture import GaussianMixture\n",
    "model = GaussianMixture(n_components = 5, covariance_type = 'full')\n",
    "model.fit(X)\n",
    "label_pred = model.predict(X)\n",
    "\n",
    "print(label_pred)"
   ]
  },
  {
   "cell_type": "markdown",
   "metadata": {},
   "source": [
    "## Gaussian mixture结果评价"
   ]
  },
  {
   "cell_type": "code",
   "execution_count": 113,
   "metadata": {},
   "outputs": [
    {
     "name": "stdout",
     "output_type": "stream",
     "text": [
      "nmi_gm =  0.4506933941721244\n"
     ]
    }
   ],
   "source": [
    "nmi_gm = normalized_mutual_info_score(clusterId, label_pred)\n",
    "print('nmi_gm = ',nmi_gm)"
   ]
  }
 ],
 "metadata": {
  "kernelspec": {
   "display_name": "Python 3",
   "language": "python",
   "name": "python3"
  },
  "language_info": {
   "codemirror_mode": {
    "name": "ipython",
    "version": 3
   },
   "file_extension": ".py",
   "mimetype": "text/x-python",
   "name": "python",
   "nbconvert_exporter": "python",
   "pygments_lexer": "ipython3",
   "version": "3.6.5"
  }
 },
 "nbformat": 4,
 "nbformat_minor": 2
}
