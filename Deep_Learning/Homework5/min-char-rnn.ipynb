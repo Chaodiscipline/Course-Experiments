{
 "cells": [
  {
   "cell_type": "markdown",
   "metadata": {},
   "source": [
    "## Part 1"
   ]
  },
  {
   "cell_type": "code",
   "execution_count": 14,
   "metadata": {},
   "outputs": [
    {
     "name": "stdout",
     "output_type": "stream",
     "text": [
      "data has 268330 characters, 62 unique.\n"
     ]
    }
   ],
   "source": [
    "import numpy as np\n",
    "\n",
    "# data I/O\n",
    "data = open(r'D:\\Deep_Learning\\hw5\\shakespeare_train.txt', 'r').read() # should be simple plain text file\n",
    "chars = list(set(data)) # 得到输入文件中所有字符种类\n",
    "data_size, vocab_size =  len(data), len(chars)#统计文件字符数和字符种类数\n",
    "print ('data has %d characters, %d unique.' % (data_size, vocab_size))\n",
    "char_to_ix = {ch: index for index, ch in enumerate(chars)} #构成从字母到数字的映射\n",
    "ix_to_char = {index: ch for index, ch in enumerate(chars)} #构成数字到字母的映射\n",
    "\n",
    "# hyperparameters\n",
    "hidden_size = 100 # size of hidden layer of neurons\n",
    "seq_length = 25 # number of steps to unroll the RNN for\n",
    "learning_rate = 1e-1\n",
    "\n",
    "# model parameters 初始化参数\n",
    "Wxh = np.random.randn(hidden_size, vocab_size)*0.01 # input to hidden   生成输入层到隐藏层的标准正态分布的参数矩阵\n",
    "Whh = np.random.randn(hidden_size, hidden_size)*0.01 # hidden to hidden\n",
    "Why = np.random.randn(vocab_size, hidden_size)*0.01 # hidden to output\n",
    "bh = np.zeros((hidden_size, 1)) # hidden bias\n",
    "by = np.zeros((vocab_size, 1)) # output bias\n",
    "\n"
   ]
  },
  {
   "cell_type": "code",
   "execution_count": 40,
   "metadata": {},
   "outputs": [],
   "source": [
    "def lossFun(inputs, targets, hprev):\n",
    "  \"\"\"\n",
    "  inputs,targets are both list of integers.\n",
    "  hprev is Hx1 array of initial hidden state\n",
    "  returns the loss, gradients on model parameters, and last hidden state\n",
    "  \"\"\"\n",
    "  xs, hs, ys, ps = {}, {}, {}, {}\n",
    "  hs[-1] = np.copy(hprev)  # forward pass中t是从0开始的，0时刻的前一时刻的隐藏层状态是hs[-1]\n",
    "  loss = 0\n",
    "    \n",
    "  # forward pass\n",
    "  for t in range(len(inputs)):\n",
    "    #encode inputs to 1-hot embedding,size(xs)=(len(input),vocab_size)\n",
    "    xs[t] = np.zeros((vocab_size, 1)) # encode in 1-of-k representation 1-hot-encoding\n",
    "    xs[t][inputs[t]] = 1 # encode in 1-of-k representation 1-hot-encoding\n",
    "    \n",
    "    #forward\n",
    "    #hs[t] 是t时刻的hidden state， active function = np.tanh(z)，z = Wx*x_t+Wh*hs_(t-1) + bh,即本时刻输入层+前一时刻个隐含层作为Z\n",
    "    hs[t] = np.tanh(np.dot(Wxh,xs[t])+np.dot(Whh, hs[t-1])+bh) # hidden state\n",
    "    #ys[t] = w*hs[t]+by\n",
    "    ys[t] = np.dot(Why, hs[t])+by # unnormalized log probabilities for next chars\n",
    "    #softmax(ys)\n",
    "    ps[t] = np.exp(ys[t])/np.sum(np.exp(ys[t]))\n",
    "    #计算loss = cross_entropy（）\n",
    "#     print(np.shape(ps[t]))\n",
    "    loss += -np.log(ps[t][targets[t]]) # softmax (cross-entropy loss)\n",
    "    \n",
    "  # backward pass: compute gradients going backwards\n",
    "  #初始化梯度\n",
    "  dWxh, dWhh, dWhy = np.zeros_like(Wxh), np.zeros_like(Whh), np.zeros_like(Why)\n",
    "  dbh, dby = np.zeros_like(bh), np.zeros_like(by)\n",
    "  dhnext = np.zeros_like(hs[0])  \n",
    "  for t in reversed(range(len(inputs))): # 从后往前\n",
    "    #dy是softmax层求导，cross_entropy softmax 求导 aj-yi,yi为one-hot标签,aj为softmax之后第j个神经元输出，详情请见https://blog.csdn.net/u014313009/article/details/51045303\n",
    "    dy = np.copy(ps[t])\n",
    "    dy[targets[t]] -= 1 # backprop into y.\n",
    "    #反向传播，求Why与by的导数\n",
    "    dWhy += np.dot(dy, hs[t].T)\n",
    "    dby += dy\n",
    "    #反向传播到hidden state请参考https://blog.csdn.net/wjc1182511338/article/details/79191099完成，其中dh处反向传播的梯度外需加上dhnext\n",
    "    dh = np.dot(Why.T, dy) + dhnext # backprop into h\n",
    "    dhraw = (1 - hs[t] * hs[t]) * dh # backprop through tanh nonlinearity\n",
    "    dbh += dhraw\n",
    "    dWxh += np.dot(dhraw, xs[t].T)\n",
    "    dWhh += np.dot(dhraw, hs[t-1].T)\n",
    "    dhnext = np.dot(Whh.T, dhraw)\n",
    "  for dparam in [dWxh, dWhh, dWhy, dbh, dby]:\n",
    "    np.clip(dparam, -5, 5, out=dparam) # clip to mitigate exploding gradients\n",
    "  return loss, dWxh, dWhh, dWhy, dbh, dby, hs[len(inputs)-1]\n",
    "\n",
    "def sample(h, seed_ix, n):\n",
    "  \"\"\" \n",
    "  sample a sequence of integers from the model \n",
    "  h is memory state, seed_ix is seed letter for first time step\n",
    "  \"\"\"\n",
    "  x = np.zeros((vocab_size, 1))\n",
    "  x[seed_ix] = 1\n",
    "  ixes = []\n",
    "  for t in range(n):\n",
    "    h = np.tanh(np.dot(Wxh, x) + np.dot(Whh, h) + bh)\n",
    "    y = np.dot(Why, h) + by\n",
    "    p = np.exp(y) / np.sum(np.exp(y))\n",
    "    ix = np.random.choice(range(vocab_size), p=p.ravel()) # ravel:将p变形，拉为一维，此处没必要\n",
    "    x = np.zeros((vocab_size, 1))\n",
    "    x[ix] = 1\n",
    "    ixes.append(ix)\n",
    "  return ixes\n",
    "\n",
    "n, p = 0, 0\n",
    "mWxh, mWhh, mWhy = np.zeros_like(Wxh), np.zeros_like(Whh), np.zeros_like(Why)\n",
    "mbh, mby = np.zeros_like(bh), np.zeros_like(by) # 记录梯度累加和，memory variables for Adagrad（adaptive gradient algorithm, 自适应梯度算法，调整学习率）\n",
    "smooth_loss = -np.log(1.0/vocab_size)*seq_length # loss at iteration 0\n",
    "while True:\n",
    "  # prepare inputs (we're sweeping from left to right in steps seq_length long)\n",
    "  if p+seq_length+1 >= len(data) or n == 0:  # 当一次text遍历完成后，从头开始下一次\n",
    "    hprev = np.zeros((hidden_size,1)) # reset RNN memory\n",
    "    p = 0 # go from start of data\n",
    "  inputs = [char_to_ix[ch] for ch in data[p:p+seq_length]]\n",
    "  targets = [char_to_ix[ch] for ch in data[p+1:p+seq_length+1]] # targets是对应inputs字符的下一个字符\n",
    "\n",
    "#   # sample from the model now and then\n",
    "#   if n % 100 == 0:\n",
    "#     sample_ix = sample(hprev, inputs[0], 200)\n",
    "#     txt = ''.join(ix_to_char[ix] for ix in sample_ix)\n",
    "#     print ('----\\n %s \\n----' % (txt, ))\n",
    "\n",
    "  # forward seq_length characters through the net and fetch gradient\n",
    "  loss, dWxh, dWhh, dWhy, dbh, dby, hprev = lossFun(inputs, targets, hprev)\n",
    "  smooth_loss = smooth_loss * 0.999 + loss * 0.001                                                                                # ？？？\n",
    "  if n % 100 == 0: print ('iter %d, loss: %f' % (n, smooth_loss)) # print progress)\n",
    "  \n",
    "  # perform parameter update with Adagrad\n",
    "  for param, dparam, mem in zip([Wxh, Whh, Why, bh, by], \n",
    "                                [dWxh, dWhh, dWhy, dbh, dby], \n",
    "                                [mWxh, mWhh, mWhy, mbh, mby]):\n",
    "    mem += dparam * dparam # 全是各元素分别运算\n",
    "    param += -learning_rate * dparam / np.sqrt(mem + 1e-8) # adagrad update\n",
    "\n",
    "  p += seq_length # move data pointer\n",
    "  n += 1 # iteration counter \n",
    "\n",
    "  if n ==100000:\n",
    "      break"
   ]
  },
  {
   "cell_type": "markdown",
   "metadata": {},
   "source": [
    "# Part 2"
   ]
  },
  {
   "cell_type": "code",
   "execution_count": 310,
   "metadata": {},
   "outputs": [],
   "source": [
    "import pickle\n",
    "with open(\"char-rnn-snapshot.pkl\", 'rb') as f:\n",
    "    a = pickle.load(f, encoding=\"latin-1\")\n",
    "Wxh = a[\"Wxh\"]  # 权重\n",
    "Whh = a[\"Whh\"]\n",
    "Why = a[\"Why\"]\n",
    "bh = a[\"bh\"]   # 偏置\n",
    "by = a[\"by\"]\n",
    "mWxh, mWhh, mWhy = a[\"mWxh\"], a[\"mWhh\"], a[\"mWhy\"]\n",
    "mbh, mby = a[\"mbh\"], a[\"mby\"]\n",
    "chars, data_size, vocab_size, char_to_ix, ix_to_char = a[\"chars\"].tolist(), a[\"data_size\"].tolist(), a[\"vocab_size\"].tolist(), a[\"char_to_ix\"].tolist(), a[\"ix_to_char\"].tolist()\n",
    "hidden_size = 250"
   ]
  },
  {
   "cell_type": "code",
   "execution_count": 295,
   "metadata": {},
   "outputs": [],
   "source": [
    "def sampleWithTemperature(h, seed_ix, n, tpt):\n",
    "  x = np.zeros((vocab_size, 1))\n",
    "  x[seed_ix] = 1\n",
    "  ixes = []\n",
    "  for t in range(n):\n",
    "    h = np.tanh(np.dot(Wxh, x) + np.dot(Whh, h) + bh)\n",
    "    y = np.dot(Why, h) + by\n",
    "    p = np.exp(y/tpt) / np.sum(np.exp(y/tpt))\n",
    "    ix = np.random.choice(range(vocab_size), p=p.ravel()) # ravel:将p变形，拉为一维，此处没必要\n",
    "    x = np.zeros((vocab_size, 1))\n",
    "    x[ix] = 1\n",
    "    ixes.append(ix)\n",
    "  return ixes,h"
   ]
  },
  {
   "cell_type": "code",
   "execution_count": 389,
   "metadata": {},
   "outputs": [
    {
     "name": "stdout",
     "output_type": "stream",
     "text": [
      "suwOUo&;iSplU&NBWtuWBSwEta,tYEvMLVF MHPNINBGiICihG'\n"
     ]
    }
   ],
   "source": [
    "startChar = 's'\n",
    "hprev = np.zeros((hidden_size,1))\n",
    "sample_ix = sampleWithTemperature(hprev, char_to_ix[startChar], 50, 10)[0]\n",
    "txt = startChar + ''.join(ix_to_char[ix] for ix in sample_ix)\n",
    "print(txt)"
   ]
  },
  {
   "cell_type": "markdown",
   "metadata": {},
   "source": [
    "# Part 3"
   ]
  },
  {
   "cell_type": "code",
   "execution_count": 87,
   "metadata": {},
   "outputs": [],
   "source": [
    "def sampleFromString(starter, n, tpt):\n",
    "    starterIx = [char_to_ix[ch] for ch in starter]\n",
    "    # compute the hidden activity h at the end of the starter \n",
    "    h = np.zeros((hidden_size,1))\n",
    "    for t in range(len(starterIx)):\n",
    "        x = np.zeros((vocab_size, 1))\n",
    "        x[starterIx[t]] = 1\n",
    "        h = np.tanh(np.dot(Wxh, x) + np.dot(Whh, h) + bh)\n",
    "    # generate text\n",
    "    ixes = []\n",
    "    for t in range(n):\n",
    "        h = np.tanh(np.dot(Wxh, x) + np.dot(Whh, h) + bh)\n",
    "        y = np.dot(Why, h) + by\n",
    "        p = np.exp(y/tpt) / np.sum(np.exp(y/tpt))\n",
    "        ix = np.random.choice(range(vocab_size), p=p.ravel()) # ravel:将p变形，拉为一维，此处没必要\n",
    "        x = np.zeros((vocab_size, 1))\n",
    "        x[ix] = 1\n",
    "        ixes.append(ix)\n",
    "        \n",
    "    continuation = \"\".join([ix_to_char[ix] for ix in ixes])\n",
    "    fullText = starter+continuation\n",
    "    return fullText"
   ]
  },
  {
   "cell_type": "code",
   "execution_count": 391,
   "metadata": {
    "scrolled": false
   },
   "outputs": [
    {
     "name": "stdout",
     "output_type": "stream",
     "text": [
      "starter =  she    n =  50    temperature =  1\n",
      "----------------------------------------------\n",
      "she blawn,\n",
      "Will kees tire the fire ceem of seare to o\n"
     ]
    }
   ],
   "source": [
    "starter = 'she'\n",
    "n = 50\n",
    "tpt = 1\n",
    "text = sampleFromString(starter, n, tpt)\n",
    "print(\"starter = \", starter, \"   n = \", n, \"   temperature = \", tpt)\n",
    "print(\"----------------------------------------------\")\n",
    "print(text)"
   ]
  },
  {
   "cell_type": "markdown",
   "metadata": {},
   "source": [
    "# Part 4"
   ]
  },
  {
   "cell_type": "code",
   "execution_count": 376,
   "metadata": {},
   "outputs": [],
   "source": [
    "def findRelevantWeight(init, next, samples=500):\n",
    "    init_ix = char_to_ix[init]    # ‘：’\n",
    "    next_ix = char_to_ix[next]    # ‘\\n'\n",
    "\n",
    "    ix = np.zeros((vocab_size, 1))\n",
    "    ix[init_ix] = 1\n",
    "    hprev = np.zeros((hidden_size,1))\n",
    "    hprev = np.tanh(np.dot(Wxh, ix) + np.dot(Whh, hprev) + bh)\n",
    "    hprev_avg = hprev  # \":\"位于句子第一位时，h状态\n",
    "\n",
    "\n",
    "    chars = np.array(list(ix_to_char.values()))     # 所有字符构成的向量：dict_values(['\\n', '!', ' ', ……])\n",
    "    # \":\"不位于第一位时，h状态\n",
    "    for i in range(samples):\n",
    "        # \"Reshuffle\" RNN state  #随机选一个字符作为seed，生成长为10的text，用以更新h\n",
    "        hprev = sampleWithTemperature(hprev, np.random.randint(0,len(chars)), 10, 1)[1]  \n",
    "        # Compute state after feeding init_ix\n",
    "        hprev = np.tanh(np.dot(Wxh, ix) + np.dot(Whh, hprev) + bh)\n",
    "        hprev_avg += hprev       \n",
    "    hprev_avg /= samples+1    #':'的平均h状态\n",
    "                           \n",
    "    pred = hprev_avg.ravel()*Why[next_ix,:]  # 不是向量内积，各元素分别相乘，（250，）*（250，）——> （250，）\n",
    "    ibprev = np.argsort(pred)[::-1][:10]   # 反向排序，取从大到小前10个的索引\n",
    "    print('ibprev = ',ibprev)\n",
    "    avg_wxh = np.mean(Wxh[:, init_ix])  \n",
    "    # 找到生成ibprev对应元素的Wxh里的且大于均值的元素\n",
    "    best_weights = [i for i in ibprev if Wxh[i, init_ix] > 0 and Wxh[i, init_ix] > avg_wxh]\n",
    "\n",
    "    y = np.dot(Why, hprev) + by\n",
    "    p = np.exp(y) / np.sum(np.exp(y))   # ':'后生成每种字符的概率列表\n",
    "\n",
    "#     print(\"%s with probability (%.2f%%) after %s\"\n",
    "#                 %(repr(next), p[next_ix]*100, repr(init)))\n",
    "#     print(\"%s with probability (%.2f%%) after %s\"\n",
    "#                 %(repr(' '), p[char_to_ix[' ']]*100, repr(init)))    \n",
    "    print(\"Weights Involved:\")\n",
    "    print(\"\\tWxh at [:,%d]\" % init_ix)\n",
    "    print(\"\\tWhy at [%d,:]\" % next_ix)\n",
    "    print(\"Most relevant weights:\")\n",
    "    print(\"\\tWxh at [[%s], %d]\" %(', '.join((str(s) for s in best_weights)), init_ix))\n",
    "    print(\"\\tWhy at [%d, [%s]]\" %(next_ix, ', '.join((str(s) for s in best_weights))))\n",
    "    return best_weights"
   ]
  },
  {
   "cell_type": "code",
   "execution_count": 393,
   "metadata": {
    "scrolled": false
   },
   "outputs": [
    {
     "name": "stdout",
     "output_type": "stream",
     "text": [
      "ibprev =  [ 73 100 143 210 108  84 125 187 114 237]\n",
      "' ' with probability (83.31%) after ':'\n",
      "' ' with probability (83.31%) after ':'\n",
      "Weights Involved:\n",
      "\tWxh at [:,9]\n",
      "\tWhy at [2,:]\n",
      "Most relevant weighs:\n",
      "\tWxh at [[100, 108, 125, 187, 114], 9]\n",
      "\tWhy at [2, [100, 108, 125, 187, 114]]\n"
     ]
    },
    {
     "data": {
      "text/plain": [
       "[100, 108, 125, 187, 114]"
      ]
     },
     "execution_count": 393,
     "metadata": {},
     "output_type": "execute_result"
    }
   ],
   "source": [
    "init = ':'\n",
    "next = ' '\n",
    "findRelevantWeight(init, next, samples=500)"
   ]
  }
 ],
 "metadata": {
  "kernelspec": {
   "display_name": "Python 3",
   "language": "python",
   "name": "python3"
  },
  "language_info": {
   "codemirror_mode": {
    "name": "ipython",
    "version": 3
   },
   "file_extension": ".py",
   "mimetype": "text/x-python",
   "name": "python",
   "nbconvert_exporter": "python",
   "pygments_lexer": "ipython3",
   "version": "3.6.2"
  }
 },
 "nbformat": 4,
 "nbformat_minor": 2
}
